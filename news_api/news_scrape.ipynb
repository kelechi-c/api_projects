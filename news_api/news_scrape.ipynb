{
 "cells": [
  {
   "cell_type": "code",
   "execution_count": 1,
   "metadata": {},
   "outputs": [],
   "source": [
    "# from bs4 import BeautifulSoup\n",
    "# import lxml\n",
    "# from selenium import webdriver\n",
    "# from selenium.webdriver.firefox.options import Options\n",
    "\n",
    "# opts = Options()\n",
    "# opts.add_argument('--headless')\n",
    "# opts.add_argument('--disable-gpu')"
   ]
  },
  {
   "cell_type": "code",
   "execution_count": 5,
   "metadata": {},
   "outputs": [
    {
     "name": "stdout",
     "output_type": "stream",
     "text": [
      "\n",
      "US Dollar Forecast: Markets Eye NFP After Manufacturing Scare\n",
      "\n"
     ]
    }
   ],
   "source": [
    "# def scrape_url(url):\n",
    "#     driver = webdriver.Firefox()\n",
    "#     driver.get(url)\n",
    "    \n",
    "#     response = driver.page_source\n",
    "#     driver.quit()\n",
    "    \n",
    "#     news_soup = BeautifulSoup(response, 'lxml')\n",
    "    \n",
    "#     try:\n",
    "#         # Get Tweet text with bs4 \n",
    "#         # tweet_source = tweet_soup.find(\"div\",{\"data-testid\":\"tweetText\"})\n",
    "#         tweet_text = news_soup.find('p', class_='dfx-articleHero__text').text\n",
    "#         return tweet_text\n",
    "#     except: \n",
    "#         print('Scarpe fail')\n",
    "        \n",
    "# url = 'https://www.dailyfx.com/'\n",
    "\n",
    "# newsText = scrape_url(url)\n",
    "# print(newsText)"
   ]
  }
 ],
 "metadata": {
  "kernelspec": {
   "display_name": ".venv",
   "language": "python",
   "name": "python3"
  },
  "language_info": {
   "codemirror_mode": {
    "name": "ipython",
    "version": 3
   },
   "file_extension": ".py",
   "mimetype": "text/x-python",
   "name": "python",
   "nbconvert_exporter": "python",
   "pygments_lexer": "ipython3",
   "version": "3.10.12"
  }
 },
 "nbformat": 4,
 "nbformat_minor": 2
}
