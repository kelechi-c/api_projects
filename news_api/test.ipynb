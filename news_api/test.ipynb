{
 "cells": [
  {
   "cell_type": "code",
   "execution_count": 1,
   "metadata": {},
   "outputs": [],
   "source": [
    "from bs4 import BeautifulSoup\n",
    "import requests\n",
    "import lxml"
   ]
  },
  {
   "cell_type": "code",
   "execution_count": 14,
   "metadata": {},
   "outputs": [
    {
     "name": "stdout",
     "output_type": "stream",
     "text": [
      "ERROR! Session/line number was not unique in database. History logging moved to new session 33\n"
     ]
    }
   ],
   "source": [
    "class WebScraper:\n",
    "    def __init__(self, url):\n",
    "        self.url = url\n",
    "        self.soup = None\n",
    "    \n",
    "    def get_page(self):\n",
    "        try:\n",
    "            response = requests.get(self.url)\n",
    "            response.raise_for_status()\n",
    "            \n",
    "            self.soup = BeautifulSoup(response.content, 'lxml')\n",
    "            \n",
    "        except requests.exceptions.RequestException as e:\n",
    "            print(f'Error in scraping: {e}')\n",
    "                    \n",
    "    def find_element(self, tag, class_selector):\n",
    "        if not self.soup:\n",
    "            self.get_page()\n",
    "            \n",
    "        return self.soup.select(f'{tag}', class_=f'{class_selector}')\n",
    "    \n",
    "    def extract_text(self, elements, attributes=None):\n",
    "        if not elements:\n",
    "            return []\n",
    "        \n",
    "        if attributes:\n",
    "            return [element[attributes] for element in elements]\n",
    "        else:\n",
    "             return [element.get_text(strip=True) for element in elements]\n",
    "        \n",
    "    "
   ]
  },
  {
   "cell_type": "code",
   "execution_count": 15,
   "metadata": {},
   "outputs": [
    {
     "name": "stdout",
     "output_type": "stream",
     "text": [
      "[<h2 class=\"container__title_url-text container_lead-package__title_url-text\" data-editable=\"title\">Villages tumble as Russia exposes Ukraine's vulnerable defenses</h2>, <h2 class=\"container__title-text container_list-headlines-with-images__title-text\" data-editable=\"title\">More on Russia and Ukraine</h2>, <h2 class=\"container__title-text container_lead-plus-headlines__title-text\" data-editable=\"title\">More top stories</h2>, <h2 class=\"container__title-text container_lead-plus-headlines-with-images__title-text\" data-editable=\"title\">Featured</h2>, <h2 class=\"zone__title zone--title\" data-editable=\"title\">Featured Sections</h2>, <h2 class=\"container__title-text container_lead-plus-headlines__title-text\" data-editable=\"title\">CNN Business</h2>, <h2 class=\"container__title_url-text container_lead-plus-headlines__title_url-text\" data-editable=\"title\">CNN Travel<svg class=\"right-arrow\" enable-background=\"new 0 0 492.004 492.004\" version=\"1.1\" viewbox=\"0 0 492.004 492.004\" xml:space=\"preserve\" xmlns=\"http://www.w3.org/2000/svg\">\n",
      "<path d=\"m484.14 226.89l-177.68-177.68c-5.072-5.072-11.832-7.856-19.04-7.856-7.216 0-13.972 2.788-19.044 7.856l-16.132 16.136c-5.068 5.064-7.86 11.828-7.86 19.04 0 7.208 2.792 14.2 7.86 19.264l103.66 103.88h-329.32c-14.848 0-26.58 11.624-26.58 26.476v22.812c0 14.852 11.732 27.648 26.58 27.648h330.5l-104.83 104.46c-5.068 5.072-7.86 11.652-7.86 18.864 0 7.204 2.792 13.88 7.86 18.948l16.132 16.084c5.072 5.072 11.828 7.836 19.044 7.836 7.208 0 13.968-2.8 19.04-7.872l177.68-177.68c5.084-5.088 7.88-11.88 7.86-19.1 0.016-7.244-2.776-14.04-7.864-19.12z\"></path>\n",
      "</svg>\n",
      "</h2>, <h2 class=\"container__title_url-text container_lead-plus-headlines__title_url-text\" data-editable=\"title\">SPORT<svg class=\"right-arrow\" enable-background=\"new 0 0 492.004 492.004\" version=\"1.1\" viewbox=\"0 0 492.004 492.004\" xml:space=\"preserve\" xmlns=\"http://www.w3.org/2000/svg\">\n",
      "<path d=\"m484.14 226.89l-177.68-177.68c-5.072-5.072-11.832-7.856-19.04-7.856-7.216 0-13.972 2.788-19.044 7.856l-16.132 16.136c-5.068 5.064-7.86 11.828-7.86 19.04 0 7.208 2.792 14.2 7.86 19.264l103.66 103.88h-329.32c-14.848 0-26.58 11.624-26.58 26.476v22.812c0 14.852 11.732 27.648 26.58 27.648h330.5l-104.83 104.46c-5.068 5.072-7.86 11.652-7.86 18.864 0 7.204 2.792 13.88 7.86 18.948l16.132 16.084c5.072 5.072 11.828 7.836 19.044 7.836 7.208 0 13.968-2.8 19.04-7.872l177.68-177.68c5.084-5.088 7.88-11.88 7.86-19.1 0.016-7.244-2.776-14.04-7.864-19.12z\"></path>\n",
      "</svg>\n",
      "</h2>, <h2 class=\"container__title-text container_lead-plus-headlines__title-text\" data-editable=\"title\">Style</h2>, <h2 class=\"container__title-text container_lead-plus-headlines__title-text\" data-editable=\"title\">Opinion</h2>, <h2 class=\"container__title-text container_lead-plus-headlines__title-text\" data-editable=\"title\">US Politics</h2>, <h2 class=\"container__title-text container_lead-plus-headlines__title-text\" data-editable=\"title\">Science and health</h2>, <h2 class=\"container__title-text container_lead-plus-headlines__title-text\" data-editable=\"title\">Tech</h2>, <h2 class=\"zone__title zone--title\" data-editable=\"title\">Photos You Should See</h2>, <h2 class=\"zone__title zone--title\" data-editable=\"title\">In Case You Missed It</h2>]\n"
     ]
    }
   ],
   "source": [
    "news_scraper = WebScraper(\"https://edition.cnn.com/\")\n",
    "news_scraper.get_page()\n",
    "\n",
    "headline = news_scraper.find_element('h2', 'container__title_url-text')\n",
    "print(headline)\n"
   ]
  },
  {
   "cell_type": "code",
   "execution_count": 17,
   "metadata": {},
   "outputs": [
    {
     "name": "stdout",
     "output_type": "stream",
     "text": [
      "Villages tumble as Russia exposes Ukraine's vulnerable defenses\n"
     ]
    }
   ],
   "source": [
    "print(headline[0].text)"
   ]
  },
  {
   "cell_type": "code",
   "execution_count": null,
   "metadata": {},
   "outputs": [],
   "source": []
  }
 ],
 "metadata": {
  "kernelspec": {
   "display_name": ".bevenv",
   "language": "python",
   "name": "python3"
  },
  "language_info": {
   "codemirror_mode": {
    "name": "ipython",
    "version": 3
   },
   "file_extension": ".py",
   "mimetype": "text/x-python",
   "name": "python",
   "nbconvert_exporter": "python",
   "pygments_lexer": "ipython3",
   "version": "3.10.12"
  }
 },
 "nbformat": 4,
 "nbformat_minor": 2
}
